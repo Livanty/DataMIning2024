{
  "cells": [
    {
      "cell_type": "markdown",
      "metadata": {
        "id": "re8S5yd8u1eZ"
      },
      "source": [
        "<h2> Python Basics"
      ]
    },
    {
      "cell_type": "markdown",
      "metadata": {
        "id": "5H441cQou1ee"
      },
      "source": [
        "I. Cobalah print kalimat \"Hello, my name is ***nama anda***\" dengan minimal 2 cara: <br>\n",
        "a.   Print biasa (nama diletakkan langsung dalam string yang di print)<br>\n",
        "b.  Menggunakan variabel (nama disimpan dulu di variabel)<br>\n",
        "c.  Menggunakan operator dan variabel<br>\n",
        "d.  Menggunakan .format()"
      ]
    },
    {
      "cell_type": "code",
      "execution_count": null,
      "metadata": {
        "id": "EJlHc6Ptu1ef",
        "colab": {
          "base_uri": "https://localhost:8080/"
        },
        "outputId": "ae0eec0a-b3b2-4592-e190-3e6bddc2369f"
      },
      "outputs": [
        {
          "output_type": "stream",
          "name": "stdout",
          "text": [
            "Hello, my name is Livanty Efatania\n",
            "Hello, my name is Livanty Efatania\n"
          ]
        }
      ],
      "source": [
        "# Nama\n",
        "print(\"Hello, my name is Livanty Efatania\")\n",
        "nama = \"Hello, my name is Livanty Efatania\"\n",
        "print(nama)"
      ]
    },
    {
      "cell_type": "markdown",
      "metadata": {
        "id": "ykD_f9Cfu1eg"
      },
      "source": [
        "II. Selesaikan soal cerita berikut menggunakan python:<br>\n",
        "a.  Jose membeli 4 kotak kelereng, tiap kotak berisi 15 buah kelereng. Kelereng itu akan dibagikan kepada 12 orang temannya, setiap teman akan mendapat ... kelereng.<br>\n",
        "b.  Hasil dari 8 pangkat 1/3 adalah ...<br>\n",
        "c.  Catharina memiliki uang sebesar Rp 50.000 untuk dibelanjakan kertas binder, 1 paket kertas binder isi 100 lembar dijual seharga 7500, jika ia ingin membeli berapa kertas binder yang dapat ia beli dengan uang yang ia punya? Berapa kembalian yang diterima?"
      ]
    },
    {
      "cell_type": "code",
      "execution_count": null,
      "metadata": {
        "id": "HZMGFAk6u1eg",
        "colab": {
          "base_uri": "https://localhost:8080/"
        },
        "outputId": "8bd22e30-c268-4de1-fd09-5b0faeba2012"
      },
      "outputs": [
        {
          "output_type": "stream",
          "name": "stdout",
          "text": [
            "5.0\n",
            "2.0\n",
            "Jadi catharina dapat membeli  6 paket binder dan uang kembalian adalah  5000\n"
          ]
        }
      ],
      "source": [
        "import math\n",
        "# Soal a\n",
        "hasil = 4 * 15 / 12\n",
        "print(hasil)\n",
        "\n",
        "# Soal b\n",
        "hasilB = 8**(1/3)\n",
        "print(hasilB)\n",
        "\n",
        "# Soal c\n",
        "p = math.floor(50000/7500) #adigenapkan kebawah agar tidak melebihi budget yang ada\n",
        "p1 = p * 7500\n",
        "kembali= 50000 - p1\n",
        "print (\"Jadi catharina dapat membeli \",p, \"paket binder dan uang kembalian adalah \", kembali)\n",
        "\n"
      ]
    },
    {
      "cell_type": "markdown",
      "metadata": {
        "id": "ogSVphwKu1eh"
      },
      "source": [
        "III. Tunjukan cara untuk mengonversi tipe-tipe data berikut:\n",
        "\n",
        "1. \"1000\" -> 1000 (string ke int)\n",
        "2. 5.25 -> 5 (float ke int)\n",
        "3. 5 -> 5.0 (int ke float)\n",
        "4. 1000 -> \"1000\" (int ke string)\n",
        "\n",
        "Expected output:\n",
        "\n",
        "\n",
        "![image.png](data:image/png;base64,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)"
      ]
    },
    {
      "cell_type": "code",
      "execution_count": null,
      "metadata": {
        "id": "1380euOQu1ei",
        "colab": {
          "base_uri": "https://localhost:8080/"
        },
        "outputId": "1400c3b9-44c1-479e-a066-1777510c32dc"
      },
      "outputs": [
        {
          "output_type": "stream",
          "name": "stdout",
          "text": [
            "1000 <class 'int'>\n",
            "5 <class 'int'>\n",
            "5.0 <class 'float'>\n",
            "1000 <class 'str'>\n"
          ]
        }
      ],
      "source": [
        "# Konversi\n",
        "a = \"1000\"\n",
        "print(int(a), type(int(a)))\n",
        "\n",
        "b = 5.25\n",
        "print(int(b), type(int(b)))\n",
        "\n",
        "c = 5\n",
        "print(float(c), type(float(c)))\n",
        "\n",
        "d = 1000\n",
        "print(str(d),type(str(d)))"
      ]
    },
    {
      "cell_type": "markdown",
      "metadata": {
        "id": "DhXG-jySu1ej"
      },
      "source": [
        "IV. String\n",
        "\n",
        "\"If you want to know what a man's like, take a good look at how he treats his inferiors, not his equals.\"\n",
        "\n",
        "1. Tampilkan indeks ke 20 sampai 30 dari string di atas (indeks ke 30 ikut)\n",
        "2. Bagaimana cara memisah string berdasarkan spasi (simpan dalam list)\n",
        "3. Balik string di atas dengan menggunakan satu baris kode (menggunakan index)\n"
      ]
    },
    {
      "cell_type": "code",
      "execution_count": null,
      "metadata": {
        "id": "kUE0OZhIu1ek",
        "colab": {
          "base_uri": "https://localhost:8080/"
        },
        "outputId": "45e0c7ad-9a57-4beb-b8d5-5fecd193bb6c"
      },
      "outputs": [
        {
          "output_type": "stream",
          "name": "stdout",
          "text": [
            "what a man'\n",
            "['If', 'you', 'want', 'to', 'know', 'what', 'a', \"man's\", 'like,', 'take', 'a', 'good', 'look', 'at', 'how', 'he', 'treats', 'his', 'inferiors,', 'not', 'his', 'equals.']\n",
            ".slauqe sih ton ,sroirefni sih staert eh woh ta kool doog a ekat ,ekil s'nam a tahw wonk ot tnaw uoy fI\n"
          ]
        }
      ],
      "source": [
        "# 1\n",
        "a = \"If you want to know what a man's like, take a good look at how he treats his inferiors, not his equals.\"\n",
        "hasila = a[20:31]\n",
        "print(hasila)\n",
        "# 2\n",
        "hasilb = a.split()\n",
        "print(hasilb)\n",
        "\n",
        "# 3\n",
        "hasilc = a[::-1]\n",
        "print(hasilc)\n"
      ]
    },
    {
      "cell_type": "markdown",
      "metadata": {
        "id": "PFAMzNc6u1el"
      },
      "source": [
        "<h2> Python Data Strcutures"
      ]
    },
    {
      "cell_type": "markdown",
      "metadata": {
        "id": "m9AKxWKzu1el"
      },
      "source": [
        "I. Tuple\n",
        "\n",
        "\n",
        "1.   Buatlah sebuah tuple yang berisikan nama fakultas di UC, simpan dalam variabel \"fakultas\".\n",
        "2.   Cetaklah jumlah fakultas di UC dengan mencari panjang tuple yang dibuat.\n",
        "3.   Gunakan .index() untuk mengetahui posisi/index fakultas SIFT"
      ]
    },
    {
      "cell_type": "code",
      "execution_count": null,
      "metadata": {
        "colab": {
          "base_uri": "https://localhost:8080/"
        },
        "id": "sA1w4YBcu1em",
        "outputId": "a2a09005-c5e4-4f9b-da3c-acc0183d3ebd"
      },
      "outputs": [
        {
          "output_type": "stream",
          "name": "stdout",
          "text": [
            "jumlah fakultas di UC: 10\n",
            "Posisi SIFT berada di: 9\n"
          ]
        }
      ],
      "source": [
        "# Fakultas\n",
        "fakultas = \"School of Business Management\", \"School of Creative Industry\", \"School of Tourism\", \"School of Medicine\" , \"School of Dental Medicine\", \"School of Psychology\" ,\"School of Communication and Media Business\", \"School of intrepreneurship and Humanities\", \"School\" ,\"School of Information Technology\"\n",
        "\n",
        "print(\"jumlah fakultas di UC:\", len(fakultas))\n",
        "hasil =  fakultas.index(\"School of Information Technology\")\n",
        "print(\"Posisi SIFT berada di:\", hasil)"
      ]
    },
    {
      "cell_type": "markdown",
      "metadata": {
        "id": "SiOS0ttQu1em"
      },
      "source": [
        "II. List\n",
        "\n",
        "\n",
        "1.   Buatlah sebuah list berisi 3 nama makanan kesukaanmu. Simpan dalam variabel \"favorit\".\n",
        "2.   Cetak nama setiap makanan dengan mengakses setiap elemen dalam list satu persatu.\n",
        "3. Kamu sedang berada di sebuah restoran dan hendak memesan salah satu menu yang ada dalam daftar favoritmu. Cetak setiap makanan dengan contoh: \"Aku ingin pesan {nama makanan}\"\n",
        "4.   Ternyata, salah satu menu tidak tersedia, jadi kamu perlu memesan makanan lain. Ganti salah satu makanan favoritmu yang kosong dengan nama makanan baru (makanan yang mana bebas). Cetak makanan favorit barumu dengan contoh: \"Aku ingin mengganti pesananku jadi {nama makanan baru}\""
      ]
    },
    {
      "cell_type": "code",
      "execution_count": null,
      "metadata": {
        "colab": {
          "base_uri": "https://localhost:8080/"
        },
        "id": "9fuI3hJ7u1en",
        "outputId": "2385b139-661f-4c65-8895-31d3a62da72b"
      },
      "outputs": [
        {
          "output_type": "stream",
          "name": "stdout",
          "text": [
            "Nasi Goreng\n",
            "Sate Ayam\n",
            "Mi Ayam\n",
            "aku ingin pesan Nasi Goreng\n",
            "aku ingin pesan Sate Ayam\n",
            "aku ingin pesan Mi Ayam\n",
            "Aku ingin mengganti pesananku jadi Rendang\n"
          ]
        }
      ],
      "source": [
        "# 1\n",
        "favorit = [\"Nasi Goreng\", \"Sate Ayam\", \"Mi Ayam\"]\n",
        "\n",
        "# 2\n",
        "for makanan in favorit:\n",
        "    print(makanan)\n",
        "\n",
        "# 3\n",
        "for makanan in favorit:\n",
        "    print(\"aku ingin pesan\", makanan)\n",
        "\n",
        "# 4\n",
        "favorit[1] = \"Rendang\"\n",
        "print(\"Aku ingin mengganti pesananku jadi\", favorit[1])\n",
        "\n"
      ]
    },
    {
      "cell_type": "markdown",
      "metadata": {
        "id": "YWl87pecu1en"
      },
      "source": [
        "III. Set\n",
        "\n",
        "1. Buatlah 4 buah set sebagai berikut\n",
        "\n",
        "\n",
        "    set1 = {1, 2, 3, 4}\n",
        "    set2 = {2, 4, 6, 8}\n",
        "    set3 = {5, 7}\n",
        "    set4 = {2, 3}\n",
        "2. Gabungkan set1 dan set2 dengan menghilangkan duplicates\n",
        "3. Buktikan set1 dan set3 tidak mempunyai intersection (output : Boolean)\n",
        "4. Buktikan set4 adalah bagian dari set1 (output : Boolean)"
      ]
    },
    {
      "cell_type": "code",
      "execution_count": null,
      "metadata": {
        "id": "Qgx8YGSpu1en",
        "colab": {
          "base_uri": "https://localhost:8080/"
        },
        "outputId": "dc4fb643-386b-424f-b444-a0556cfb8a68"
      },
      "outputs": [
        {
          "output_type": "stream",
          "name": "stdout",
          "text": [
            "{1, 2, 3, 4, 6, 8}\n",
            "True\n",
            "True\n"
          ]
        }
      ],
      "source": [
        "# 1\n",
        "set1 = {1, 2, 3, 4}\n",
        "set2 = {2, 4, 6, 8}\n",
        "set3 = {5, 7}\n",
        "set4 = {2, 3}\n",
        "\n",
        "# 2\n",
        "gabungan = set1 | set2\n",
        "print(gabungan)\n",
        "\n",
        "# 3\n",
        "intersection = set1.isdisjoint(set3)\n",
        "print(intersection)\n",
        "\n",
        "# 4\n",
        "hasil = set4.issubset(set1)\n",
        "print(hasil)"
      ]
    },
    {
      "cell_type": "markdown",
      "metadata": {
        "id": "uhpPy3xWu1en"
      },
      "source": [
        "<h2> Python Programming Fundamentals"
      ]
    },
    {
      "cell_type": "markdown",
      "metadata": {
        "id": "OEgpX5aYu1eo"
      },
      "source": [
        "I. Buatlah sebuah program sederhana yang meminta inputan dari user berupa jumlah penggunaan listrik (munculkan error jika input selain angka) dan menghasilkan output berupa tarif yang harus dibayar dengan syarat sebagai berikut:\n",
        "\n",
        "PLN menerapkan pembayaran listrik perumahan dengan perhitungan sebagai berikut:\n",
        "* untuk golongan 1 (penggunaan <1000 kWh) tarif : Rp1000/kWh\n",
        "* untuk golongan 2 (penggunaan >= 1000 kWh) tarif : Rp2000/kWh\n",
        "\n",
        "Dengan syarat perhitungan:\n",
        "\n",
        "Minimum pembayaran adalah 100 kWh sedangkan untuk pemakaian 1000 kWh dan seterusnya tarifnya ditambah 10% dari total pembayaran.\n",
        "\n",
        "(Jika total penggunaan <100 kWh, maka akan dikenakan tarif 100 kWh)"
      ]
    },
    {
      "cell_type": "code",
      "execution_count": null,
      "metadata": {
        "colab": {
          "base_uri": "https://localhost:8080/"
        },
        "id": "Q6vIyfIdu1eo",
        "outputId": "e3b90319-f4dc-4e22-9f0b-f7010bb65b5b"
      },
      "outputs": [
        {
          "output_type": "stream",
          "name": "stdout",
          "text": [
            "Masukkan jumlah penggunaan listrik (kWh): 100\n",
            "Tarif yang harus dibayar: Rp100000.00\n"
          ]
        }
      ],
      "source": [
        "# Program Bayar Listrik\n",
        "def hitung_tarif_listrik(jumlah_penggunaan):\n",
        "    if jumlah_penggunaan < 100:\n",
        "        penggunaan = 100\n",
        "    else:\n",
        "        penggunaan = jumlah_penggunaan\n",
        "\n",
        "    if penggunaan < 1000:\n",
        "        tarif_per_kwh = 1000\n",
        "    else:\n",
        "        tarif_per_kwh = 2000\n",
        "\n",
        "    total_pembayaran = penggunaan * tarif_per_kwh\n",
        "\n",
        "    if penggunaan >= 1000:\n",
        "        total_pembayaran *= 1.1  # Tambah 10% untuk penggunaan >= 1000 kWh\n",
        "\n",
        "    return total_pembayaran\n",
        "\n",
        "def main():\n",
        "    try:\n",
        "        input_penggunaan = input(\"Masukkan jumlah penggunaan listrik (kWh): \")\n",
        "        jumlah_penggunaan = float(input_penggunaan)\n",
        "\n",
        "        total_tarif = hitung_tarif_listrik(jumlah_penggunaan)\n",
        "        print(f\"Tarif yang harus dibayar: Rp{total_tarif:.2f}\")\n",
        "    except ValueError:\n",
        "        print(\"Error: Mohon masukkan angka yang valid.\")\n",
        "\n",
        "if __name__ == \"__main__\":\n",
        "    main()\n",
        "\n",
        "\n"
      ]
    },
    {
      "cell_type": "markdown",
      "metadata": {
        "id": "Bqp7xI2Nu1eo"
      },
      "source": [
        "II. Untuk Abdimas Oweek UC digunakan angkot dengan kapasitas 10 orang per angkot. Apabila terjadi kelebihan penumpang (walau hanya 1 orang), angkot yang digunakan ditambah 1. Tulislah program untuk menghitung jumlah angkot yang diperlukan bila jumlah pesertanya menggunakan input().\n",
        "\n",
        "Catatan, pastikan jika angka yang dimasukkan negatif, muncul peringatan \"Jumlah orang tidak bisa negatif!\""
      ]
    },
    {
      "cell_type": "code",
      "execution_count": null,
      "metadata": {
        "id": "C8thFHRbu1ep",
        "colab": {
          "base_uri": "https://localhost:8080/"
        },
        "outputId": "0c932dc9-b15f-47de-e920-342ef23fd1ea"
      },
      "outputs": [
        {
          "output_type": "stream",
          "name": "stdout",
          "text": [
            "Masukkan jumlah peserta: 12\n",
            "Jumlah angkot yang diperlukan: 2\n"
          ]
        }
      ],
      "source": [
        "# Program Angkot Abdimas UC\n",
        "def hitung_jumlah_angkot(jumlah_peserta):\n",
        "    kapasitas_angkot = 10\n",
        "    # Menghitung jumlah angkot yang diperlukan\n",
        "    jumlah_angkot = (jumlah_peserta // kapasitas_angkot) + (1 if jumlah_peserta % kapasitas_angkot > 0 else 0)\n",
        "    return jumlah_angkot\n",
        "\n",
        "def main():\n",
        "    try:\n",
        "        input_peserta = input(\"Masukkan jumlah peserta: \")\n",
        "        jumlah_peserta = int(input_peserta)\n",
        "\n",
        "        if jumlah_peserta < 0:\n",
        "            print(\"Jumlah orang tidak bisa negatif!\")\n",
        "        else:\n",
        "            jumlah_angkot = hitung_jumlah_angkot(jumlah_peserta)\n",
        "            print(f\"Jumlah angkot yang diperlukan: {jumlah_angkot}\")\n",
        "\n",
        "    except ValueError:\n",
        "        print(\"Error: Mohon masukkan angka yang valid.\")\n",
        "\n",
        "if __name__ == \"__main__\":\n",
        "    main()\n",
        "\n",
        "\n",
        "\n"
      ]
    },
    {
      "cell_type": "markdown",
      "metadata": {
        "id": "zmpc0H2cu1ep"
      },
      "source": [
        "<h2> Numpy"
      ]
    },
    {
      "cell_type": "markdown",
      "metadata": {
        "id": "NH_6KTdZu1ep"
      },
      "source": [
        "1. Buatlah 1D numpy array berisi nama nama hari dalam satu minggu\n",
        "2. Gunakan sort untuk mengurutkan array sesuai abjad\n",
        "3. Gunakan random untuk mengambil 1 hari dari array, cetakhlah dalam format: \"Selamat hari \\<nama hari\\> adalah hari baikmu bulan ini!\"\n",
        "4. Buat dan cetaklah matriks 3x4 menggunakan numpy array berisi angka random dari 1-6, lalu cetak shape dan dimensi array\n",
        "5. Cetaklah elemen kolom ketiga dari matrix\n",
        "\n",
        "    [[1 ,2, 3, 4],\n",
        "\n",
        "    [5, 6, 7, 8],\n",
        "\n",
        "    [9, 10, 11, 12]]\n",
        "6. Gunakan reshape untuk mengubah matrix di atas menjadi matriks berukuran (2, 6)"
      ]
    },
    {
      "cell_type": "code",
      "execution_count": null,
      "metadata": {
        "id": "7u2L4rYWu1ep"
      },
      "outputs": [],
      "source": [
        "import numpy as np\n",
        "\n",
        "# 1\n",
        "hari = np.array([\"Senin\", \"Selasa\", \"Rabu\", \"Kamis\", \"Jumat\", \"Sabtu\", \"Minggu\"])"
      ]
    },
    {
      "cell_type": "code",
      "source": [
        "# 2\n",
        "hari_sorted = np.sort(hari)\n",
        "print(hari_sorted)"
      ],
      "metadata": {
        "id": "7aI1VcHsInbd",
        "colab": {
          "base_uri": "https://localhost:8080/"
        },
        "outputId": "5f4a7db9-39c7-47e2-d470-5169bde22255"
      },
      "execution_count": null,
      "outputs": [
        {
          "output_type": "stream",
          "name": "stdout",
          "text": [
            "['Jumat' 'Kamis' 'Minggu' 'Rabu' 'Sabtu' 'Selasa' 'Senin']\n"
          ]
        }
      ]
    },
    {
      "cell_type": "code",
      "source": [
        "# 3\n",
        "import random\n",
        "hari_random = random.choice(hari_sorted)\n",
        "print(f\"Selamat hari {hari_random} adalah hari baikmu bulan ini!\")"
      ],
      "metadata": {
        "id": "1KahrwRLIo9j",
        "colab": {
          "base_uri": "https://localhost:8080/"
        },
        "outputId": "5a69095e-7c6c-4245-df45-4405fe15ac76"
      },
      "execution_count": null,
      "outputs": [
        {
          "output_type": "stream",
          "name": "stdout",
          "text": [
            "Selamat hari Kamis adalah hari baikmu bulan ini!\n"
          ]
        }
      ]
    },
    {
      "cell_type": "code",
      "source": [
        "# 4\n",
        "matriks = np.random.randint(1, 7, size=(3, 4))\n",
        "print(\"\\nMatriks 3x4:\")\n",
        "print(matriks)\n",
        "\n",
        "print(f\"\\nShape dari matriks: {matriks.shape}\")\n",
        "print(f\"Dimensi dari matriks: {matriks.ndim}\")"
      ],
      "metadata": {
        "id": "9i8pmTJxIqwg",
        "colab": {
          "base_uri": "https://localhost:8080/"
        },
        "outputId": "7e307313-4f5e-4ebd-bc2c-c6df267ea093"
      },
      "execution_count": null,
      "outputs": [
        {
          "output_type": "stream",
          "name": "stdout",
          "text": [
            "\n",
            "Matriks 3x4:\n",
            "[[3 6 5 4]\n",
            " [4 5 5 1]\n",
            " [3 5 5 6]]\n",
            "\n",
            "Shape dari matriks: (3, 4)\n",
            "Dimensi dari matriks: 2\n"
          ]
        }
      ]
    },
    {
      "cell_type": "code",
      "execution_count": null,
      "metadata": {
        "id": "deanH7rbNQDz",
        "colab": {
          "base_uri": "https://localhost:8080/"
        },
        "outputId": "8b937412-36a2-4fad-ec0a-c854ec9b64fa"
      },
      "outputs": [
        {
          "output_type": "stream",
          "name": "stdout",
          "text": [
            "\n",
            "Elemen kolom ketiga: [5 5 5]\n"
          ]
        }
      ],
      "source": [
        "# 5\n",
        "kolom_ketiga = matriks[:, 2]\n",
        "print(f\"\\nElemen kolom ketiga: {kolom_ketiga}\")\n",
        "\n"
      ]
    },
    {
      "cell_type": "code",
      "source": [
        "# 6\n",
        "\n",
        "matriks_baru = np.array([[1, 2, 3, 4],\n",
        "                          [5, 6, 7, 8],\n",
        "                          [9, 10, 11, 12]])\n",
        "\n",
        "matriks_reshape = matriks_baru.reshape(2, 6)\n",
        "print(\"\\nMatriks setelah reshape (2, 6):\")\n",
        "print(matriks_reshape)"
      ],
      "metadata": {
        "id": "8SDYNL0-IxIE",
        "colab": {
          "base_uri": "https://localhost:8080/"
        },
        "outputId": "be490eaf-3727-416c-c7fa-0bbbae7a157f"
      },
      "execution_count": null,
      "outputs": [
        {
          "output_type": "stream",
          "name": "stdout",
          "text": [
            "\n",
            "Matriks setelah reshape (2, 6):\n",
            "[[ 1  2  3  4  5  6]\n",
            " [ 7  8  9 10 11 12]]\n"
          ]
        }
      ]
    },
    {
      "cell_type": "markdown",
      "metadata": {
        "id": "IJ-xiFGCu1ep"
      },
      "source": [
        "<h2> Pandas"
      ]
    },
    {
      "cell_type": "markdown",
      "metadata": {
        "id": "W1GPuTsQu1eq"
      },
      "source": [
        "1. Buatlah Pandas Series dari list [\"Information\", \"Systems\", \"for\", \"Business\"]\n",
        "2. Buatlah Pandas Dataframe dari dictionary\n",
        "{ \"brand\": \"Ford\", \"model\": \"Mustang\", \"year\": 1964 }"
      ]
    },
    {
      "cell_type": "code",
      "execution_count": null,
      "metadata": {
        "id": "btISSDM7u1eq",
        "colab": {
          "base_uri": "https://localhost:8080/"
        },
        "outputId": "2c6f10f1-fef9-4fe5-fe4a-805c8ca7ef5b"
      },
      "outputs": [
        {
          "output_type": "stream",
          "name": "stdout",
          "text": [
            "Pandas Series:\n",
            "0    Information\n",
            "1        Systems\n",
            "2            for\n",
            "3       Business\n",
            "dtype: object\n",
            "\n",
            "Pandas DataFrame:\n",
            "  brand    model  year\n",
            "0  Ford  Mustang  1964\n"
          ]
        }
      ],
      "source": [
        "import pandas as pd\n",
        "\n",
        "# 1\n",
        "\n",
        "data_list = [\"Information\", \"Systems\", \"for\", \"Business\"]\n",
        "series = pd.Series(data_list)\n",
        "print(\"Pandas Series:\")\n",
        "print(series)\n",
        "\n",
        "\n",
        "# 2\n",
        "data_dict = { \"brand\": [\"Ford\"], \"model\": [\"Mustang\"], \"year\": [1964] }\n",
        "dataframe = pd.DataFrame(data_dict)\n",
        "print(\"\\nPandas DataFrame:\")\n",
        "print(dataframe)"
      ]
    },
    {
      "cell_type": "markdown",
      "metadata": {
        "id": "K6iLqp69u1eq"
      },
      "source": [
        "3. Import dataset berikut kedalam dataframe.    \n",
        "dataset : https://raw.githubusercontent.com/GTerrence/dataset/main/50_Startups.csv.xls\n",
        "4. Tunjukan kota apa saja yang ada dalam dataset tersebut\n",
        "5. Buatlah dataset baru yang menyimpan 10 row random dari dataset. Kemudian tunjukanlah 5 row pertamanya.\n",
        "6. Gunakan df.info() untuk melihat informasi singkat dari dataframe\n",
        "7. Tampilkan data 'R&D Spend' dan 'Marketing Spend' dari data yang berasal dari kota 'California'\n",
        "8. Temukan apa ada missing value dari setiap kolom\n",
        "9. Drop data yang memiliki profit di bawah 50000\n",
        "10. Urutkan Dataframe berdasarkan biaya marketing mulai dari terbesar ke terkecil"
      ]
    },
    {
      "cell_type": "code",
      "execution_count": null,
      "metadata": {
        "id": "Zz-a6B-Au1er"
      },
      "outputs": [],
      "source": [
        "# 3\n",
        "url = \"https://raw.githubusercontent.com/GTerrence/dataset/main/50_Startups.csv.xls\"\n",
        "df = pd.read_csv(url)"
      ]
    },
    {
      "cell_type": "code",
      "execution_count": null,
      "metadata": {
        "id": "8hsqamWrCimw",
        "colab": {
          "base_uri": "https://localhost:8080/"
        },
        "outputId": "cfb40d87-4269-4d8a-b1db-68803b2c22a3"
      },
      "outputs": [
        {
          "output_type": "stream",
          "name": "stdout",
          "text": [
            "Kota-kota dalam dataset:\n",
            "['New York' 'California' 'Florida']\n"
          ]
        }
      ],
      "source": [
        "# 4\n",
        "kota = df['State'].unique()\n",
        "print(\"Kota-kota dalam dataset:\")\n",
        "print(kota)"
      ]
    },
    {
      "cell_type": "code",
      "execution_count": 94,
      "metadata": {
        "id": "xCcT75YOCmX3",
        "colab": {
          "base_uri": "https://localhost:8080/"
        },
        "outputId": "d7c33b4e-4313-4b18-e0f0-b86ca9ff3185"
      },
      "outputs": [
        {
          "output_type": "stream",
          "name": "stdout",
          "text": [
            "    R&D Spend  Administration  Marketing Spend       State     Profit\n",
            "27   72107.60       127864.55        353183.81    New York  105008.31\n",
            "35   46014.02        85047.44        205517.64    New York   96479.51\n",
            "40   28754.33       118546.05        172795.67  California   78239.91\n",
            "38   20229.59        65947.93        185265.10    New York   81229.06\n",
            "2   153441.51       101145.55        407934.54     Florida  191050.39\n"
          ]
        }
      ],
      "source": [
        "# 5\n",
        "df_random = df.sample(n=10, random_state=1)\n",
        "print(df_random.head())\n"
      ]
    },
    {
      "cell_type": "code",
      "execution_count": 95,
      "metadata": {
        "id": "kgHgGEVoCqGR",
        "colab": {
          "base_uri": "https://localhost:8080/"
        },
        "outputId": "2b23a048-c13f-4f7a-d69d-f7458975f9f9"
      },
      "outputs": [
        {
          "output_type": "stream",
          "name": "stdout",
          "text": [
            "<class 'pandas.core.frame.DataFrame'>\n",
            "RangeIndex: 50 entries, 0 to 49\n",
            "Data columns (total 5 columns):\n",
            " #   Column           Non-Null Count  Dtype  \n",
            "---  ------           --------------  -----  \n",
            " 0   R&D Spend        50 non-null     float64\n",
            " 1   Administration   50 non-null     float64\n",
            " 2   Marketing Spend  50 non-null     float64\n",
            " 3   State            50 non-null     object \n",
            " 4   Profit           50 non-null     float64\n",
            "dtypes: float64(4), object(1)\n",
            "memory usage: 2.1+ KB\n"
          ]
        }
      ],
      "source": [
        "# 6\n",
        "df.info()"
      ]
    },
    {
      "cell_type": "code",
      "execution_count": 96,
      "metadata": {
        "id": "Mc3zul5PA2TD",
        "colab": {
          "base_uri": "https://localhost:8080/"
        },
        "outputId": "42e372b9-dfb8-4e0c-c449-13e714aad7a5"
      },
      "outputs": [
        {
          "output_type": "stream",
          "name": "stdout",
          "text": [
            "    R&D Spend  Marketing Spend\n",
            "1   162597.70        443898.53\n",
            "6   134615.46        127716.82\n",
            "9   123334.88        304981.62\n",
            "11  100671.96        249744.55\n",
            "13   91992.39        252664.93\n",
            "16   78013.11        264346.06\n",
            "20   76253.86        298664.47\n",
            "25   64664.71        137962.62\n",
            "32   63408.86         46085.25\n",
            "34   46426.07        210797.67\n",
            "37   44069.95        197029.42\n",
            "39   38558.51        174999.30\n",
            "40   28754.33        172795.67\n",
            "42   23640.93        148001.11\n",
            "44   22177.74         28334.72\n",
            "47       0.00             0.00\n",
            "49       0.00         45173.06\n"
          ]
        }
      ],
      "source": [
        "# 7\n",
        "california_data = df[df['State'] == 'California'][['R&D Spend', 'Marketing Spend']]\n",
        "print(california_data)"
      ]
    },
    {
      "cell_type": "code",
      "execution_count": 97,
      "metadata": {
        "id": "M1SY-gGACRy0",
        "colab": {
          "base_uri": "https://localhost:8080/"
        },
        "outputId": "00541e9d-b78a-4481-ba2b-48e0a1fdcb9a"
      },
      "outputs": [
        {
          "output_type": "stream",
          "name": "stdout",
          "text": [
            "R&D Spend          0\n",
            "Administration     0\n",
            "Marketing Spend    0\n",
            "State              0\n",
            "Profit             0\n",
            "dtype: int64\n"
          ]
        }
      ],
      "source": [
        "# 8\n",
        "missing_values = df.isnull().sum()\n",
        "print(missing_values)"
      ]
    },
    {
      "cell_type": "code",
      "execution_count": 98,
      "metadata": {
        "id": "XS3SV8--CeLJ"
      },
      "outputs": [],
      "source": [
        "# 9\n",
        "df_filtered = df[df['Profit'] >= 50000]"
      ]
    },
    {
      "cell_type": "code",
      "execution_count": 99,
      "metadata": {
        "id": "mbt-zuboEm3A",
        "colab": {
          "base_uri": "https://localhost:8080/"
        },
        "outputId": "144f2568-01a3-4794-9f23-d5e6ea4b0ba7"
      },
      "outputs": [
        {
          "output_type": "stream",
          "name": "stdout",
          "text": [
            "    R&D Spend  Administration  Marketing Spend       State     Profit\n",
            "0   165349.20       136897.80        471784.10    New York  192261.83\n",
            "1   162597.70       151377.59        443898.53  California  191792.06\n",
            "2   153441.51       101145.55        407934.54     Florida  191050.39\n",
            "3   144372.41       118671.85        383199.62    New York  182901.99\n",
            "4   142107.34        91391.77        366168.42     Florida  166187.94\n",
            "5   131876.90        99814.71        362861.36    New York  156991.12\n",
            "27   72107.60       127864.55        353183.81    New York  105008.31\n",
            "7   130298.13       145530.06        323876.68     Florida  155752.60\n",
            "8   120542.52       148718.95        311613.29    New York  152211.77\n",
            "9   123334.88       108679.17        304981.62  California  149759.96\n",
            "23   67532.53       105751.03        304768.73     Florida  108733.99\n",
            "22   73994.56       122782.75        303319.26     Florida  110352.25\n",
            "21   78389.47       153773.43        299737.29    New York  111313.02\n",
            "20   76253.86       113867.30        298664.47  California  118474.03\n",
            "18   91749.16       114175.79        294919.57     Florida  124266.90\n",
            "17   94657.16       145077.58        282574.31    New York  125370.37\n",
            "16   78013.11       121597.55        264346.06  California  126992.93\n",
            "15  114523.61       122616.84        261776.23    New York  129917.04\n",
            "14  119943.24       156547.42        256512.92     Florida  132602.65\n",
            "13   91992.39       135495.07        252664.93  California  134307.35\n",
            "12   93863.75       127320.38        249839.44     Florida  141585.52\n",
            "11  100671.96        91790.61        249744.55  California  144259.40\n",
            "10  101913.08       110594.11        229160.95     Florida  146121.95\n",
            "33   55493.95       103057.49        214634.81     Florida   96778.92\n",
            "34   46426.07       157693.92        210797.67  California   96712.80\n",
            "35   46014.02        85047.44        205517.64    New York   96479.51\n",
            "36   28663.76       127056.21        201126.82     Florida   90708.19\n",
            "37   44069.95        51283.14        197029.42  California   89949.14\n",
            "38   20229.59        65947.93        185265.10    New York   81229.06\n",
            "39   38558.51        82982.09        174999.30  California   81005.76\n",
            "40   28754.33       118546.05        172795.67  California   78239.91\n",
            "41   27892.92        84710.77        164470.71     Florida   77798.83\n",
            "42   23640.93        96189.63        148001.11  California   71498.49\n",
            "24   77044.01        99281.34        140574.81    New York  108552.04\n",
            "25   64664.71       139553.16        137962.62  California  107404.34\n",
            "26   75328.87       144135.98        134050.07     Florida  105733.54\n",
            "6   134615.46       147198.87        127716.82  California  156122.51\n",
            "28   66051.52       182645.56        118148.20     Florida  103282.38\n",
            "29   65605.48       153032.06        107138.38    New York  101004.64\n",
            "30   61994.48       115641.28         91131.24     Florida   99937.59\n",
            "31   61136.38       152701.92         88218.23    New York   97483.56\n",
            "32   63408.86       129219.61         46085.25  California   97427.84\n",
            "43   15505.73       127382.30         35534.17    New York   69758.98\n",
            "44   22177.74       154806.14         28334.72  California   65200.33\n",
            "45    1000.23       124153.04          1903.93    New York   64926.08\n",
            "19   86419.70       153514.11             0.00    New York  122776.86\n"
          ]
        }
      ],
      "source": [
        "# 10\n",
        "df_sorted = df_filtered.sort_values(by='Marketing Spend', ascending=False)\n",
        "print(df_sorted)"
      ]
    },
    {
      "cell_type": "markdown",
      "metadata": {
        "id": "4OfOaA0xu1er"
      },
      "source": [
        "<h2> Data Cleaning"
      ]
    },
    {
      "cell_type": "markdown",
      "metadata": {
        "id": "Krb_r6quu1es"
      },
      "source": [
        "1. Import dataset berikut ke dalam dataframe.   \n",
        "   dataset : https://raw.githubusercontent.com/GTerrence/dataset/main/real_estate.csv\n",
        "2. Tampilkan 10 data random dari dataset di atas\n",
        "3. Cari informasi data dengan menggunakan fungsi describe\n",
        "4. Hapus kolom 'No' dan ubahlah nama kolom dalam dataframe menjadi 'transaction_date', 'house_age', 'distance_to_the_nearest_MRT_station', 'number_of_convinience_stores', 'latitude', 'longitude', 'house_price_of_unit_area'\n",
        "5. Cek apakah ada missing values dari masing-masing kolom"
      ]
    },
    {
      "cell_type": "code",
      "execution_count": 104,
      "metadata": {
        "id": "NAl8hGLHu1es"
      },
      "outputs": [],
      "source": [
        "# 1\n",
        "url = \"https://raw.githubusercontent.com/GTerrence/dataset/main/real_estate.csv\"\n",
        "df = pd.read_csv(url)"
      ]
    },
    {
      "cell_type": "code",
      "execution_count": 105,
      "metadata": {
        "id": "YWjZAHGdFXhK",
        "colab": {
          "base_uri": "https://localhost:8080/"
        },
        "outputId": "93d031d8-1ed1-4d08-80bd-eb44c2822d77"
      },
      "outputs": [
        {
          "output_type": "stream",
          "name": "stdout",
          "text": [
            "      No  X1 transaction date  X2 house age  \\\n",
            "388  389             2013.500          10.4   \n",
            "102  103             2013.083           1.1   \n",
            "187  188             2013.000           8.9   \n",
            "162  163             2012.750          16.0   \n",
            "90    91             2012.833           0.0   \n",
            "398  399             2013.417          14.7   \n",
            "295  296             2013.167          18.2   \n",
            "397  398             2013.417          13.1   \n",
            "17    18             2012.750          17.7   \n",
            "58    59             2013.500          30.3   \n",
            "\n",
            "     X3 distance to the nearest MRT station  X4 number of convenience stores  \\\n",
            "388                               2251.9380                                4   \n",
            "102                                193.5845                                6   \n",
            "187                               3078.1760                                0   \n",
            "162                               4066.5870                                0   \n",
            "90                                 274.0144                                1   \n",
            "398                               1717.1930                                2   \n",
            "295                               2179.5900                                3   \n",
            "397                               1164.8380                                4   \n",
            "17                                 350.8515                                1   \n",
            "58                                4510.3590                                1   \n",
            "\n",
            "     X5 latitude  X6 longitude  Y house price of unit area  \n",
            "388     24.95957     121.51353                        27.3  \n",
            "102     24.96571     121.54089                        54.4  \n",
            "187     24.95464     121.56627                        22.0  \n",
            "162     24.94297     121.50342                        11.6  \n",
            "90      24.97480     121.53059                        45.4  \n",
            "398     24.96447     121.51649                        23.0  \n",
            "295     24.96299     121.51252                        21.8  \n",
            "397     24.99156     121.53406                        32.2  \n",
            "17      24.97544     121.53119                        37.4  \n",
            "58      24.94925     121.49542                        22.6  \n"
          ]
        }
      ],
      "source": [
        "# 2\n",
        "random_data = df.sample(n=10, random_state=1)\n",
        "print(random_data)"
      ]
    },
    {
      "cell_type": "code",
      "execution_count": 106,
      "metadata": {
        "id": "WYXICVmkFgAo",
        "colab": {
          "base_uri": "https://localhost:8080/"
        },
        "outputId": "ae1f21d2-6455-4e37-a90d-c993ebfd487f"
      },
      "outputs": [
        {
          "output_type": "stream",
          "name": "stdout",
          "text": [
            "               No  X1 transaction date  X2 house age  \\\n",
            "count  414.000000           414.000000    414.000000   \n",
            "mean   207.500000          2013.148971     17.712560   \n",
            "std    119.655756             0.281967     11.392485   \n",
            "min      1.000000          2012.667000      0.000000   \n",
            "25%    104.250000          2012.917000      9.025000   \n",
            "50%    207.500000          2013.167000     16.100000   \n",
            "75%    310.750000          2013.417000     28.150000   \n",
            "max    414.000000          2013.583000     43.800000   \n",
            "\n",
            "       X3 distance to the nearest MRT station  \\\n",
            "count                              414.000000   \n",
            "mean                              1083.885689   \n",
            "std                               1262.109595   \n",
            "min                                 23.382840   \n",
            "25%                                289.324800   \n",
            "50%                                492.231300   \n",
            "75%                               1454.279000   \n",
            "max                               6488.021000   \n",
            "\n",
            "       X4 number of convenience stores  X5 latitude  X6 longitude  \\\n",
            "count                       414.000000   414.000000    414.000000   \n",
            "mean                          4.094203    24.969030    121.533361   \n",
            "std                           2.945562     0.012410      0.015347   \n",
            "min                           0.000000    24.932070    121.473530   \n",
            "25%                           1.000000    24.963000    121.528085   \n",
            "50%                           4.000000    24.971100    121.538630   \n",
            "75%                           6.000000    24.977455    121.543305   \n",
            "max                          10.000000    25.014590    121.566270   \n",
            "\n",
            "       Y house price of unit area  \n",
            "count                  414.000000  \n",
            "mean                    37.980193  \n",
            "std                     13.606488  \n",
            "min                      7.600000  \n",
            "25%                     27.700000  \n",
            "50%                     38.450000  \n",
            "75%                     46.600000  \n",
            "max                    117.500000  \n"
          ]
        }
      ],
      "source": [
        "# 3\n",
        "print(df.describe())"
      ]
    },
    {
      "cell_type": "code",
      "execution_count": 109,
      "metadata": {
        "id": "v1scoJ2bFraH"
      },
      "outputs": [],
      "source": [
        "# 4\n",
        "df = df.drop(columns=['No'])\n",
        "\n",
        "df.columns = [\n",
        "    'transaction_date',\n",
        "    'house_age',\n",
        "    'distance_to_the_nearest_MRT_station',\n",
        "    'number_of_convinience_stores',\n",
        "    'latitude',\n",
        "    'longitude',\n",
        "    'house_price_of_unit_area'\n",
        "]"
      ]
    },
    {
      "cell_type": "code",
      "execution_count": 110,
      "metadata": {
        "id": "O_EVut8-GE7b",
        "colab": {
          "base_uri": "https://localhost:8080/"
        },
        "outputId": "df6a5888-8ae1-4697-d5cc-4c1a5823ab00"
      },
      "outputs": [
        {
          "output_type": "stream",
          "name": "stdout",
          "text": [
            "transaction_date                       0\n",
            "house_age                              0\n",
            "distance_to_the_nearest_MRT_station    0\n",
            "number_of_convinience_stores           0\n",
            "latitude                               0\n",
            "longitude                              0\n",
            "house_price_of_unit_area               0\n",
            "dtype: int64\n"
          ]
        }
      ],
      "source": [
        "# 5\n",
        "missing_values = df.isnull().sum()\n",
        "print(missing_values)"
      ]
    }
  ],
  "metadata": {
    "colab": {
      "provenance": []
    },
    "kernelspec": {
      "display_name": "Python 3 (ipykernel)",
      "language": "python",
      "name": "python3"
    },
    "language_info": {
      "codemirror_mode": {
        "name": "ipython",
        "version": 3
      },
      "file_extension": ".py",
      "mimetype": "text/x-python",
      "name": "python",
      "nbconvert_exporter": "python",
      "pygments_lexer": "ipython3",
      "version": "3.9.12"
    }
  },
  "nbformat": 4,
  "nbformat_minor": 0
}